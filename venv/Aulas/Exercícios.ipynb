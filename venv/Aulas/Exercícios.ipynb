{
 "cells": [
  {
   "cell_type": "markdown",
   "metadata": {},
   "source": [
    "# Exercicíos"
   ]
  },
  {
   "cell_type": "markdown",
   "metadata": {},
   "source": [
    "###  Exiba os índices da lista"
   ]
  },
  {
   "cell_type": "code",
   "execution_count": null,
   "metadata": {},
   "outputs": [],
   "source": [
    "lista = ['Maria', 'Helena', 'Luiz']\n",
    "lista.append('Lucas')\n",
    "indices = range(len(lista))\n",
    "\n",
    "for indice in indices:\n",
    "    print(indice, lista[indice])"
   ]
  },
  {
   "cell_type": "markdown",
   "metadata": {},
   "source": [
    "> Usando a função **enumerate** ela itera sobre uma lista e cria uma tupla junto a cada item com o seu indice."
   ]
  },
  {
   "cell_type": "code",
   "execution_count": null,
   "metadata": {},
   "outputs": [],
   "source": [
    "lista = ['Maria', 'Helena', 'Luiz']\n",
    "#lista.append('Lucas')\n",
    "\n",
    "#lista_enum = enumerate(lista)\n",
    "\n",
    "for indice, nome in enumerate(lista):\n",
    "    print(indice, nome)"
   ]
  },
  {
   "cell_type": "markdown",
   "metadata": {},
   "source": [
    "## Desempacotamento"
   ]
  },
  {
   "cell_type": "code",
   "execution_count": null,
   "metadata": {},
   "outputs": [],
   "source": [
    "nome, *_ = ['Maria', 'Helena', 'Luiz']\n",
    "print(nome, _)"
   ]
  },
  {
   "cell_type": "markdown",
   "metadata": {},
   "source": [
    "## Faça uma lista de compras com listas"
   ]
  },
  {
   "cell_type": "markdown",
   "metadata": {},
   "source": [
    "* O usuário deve ter a possibilidade de inserir, apagar e listar os valores da sua lista.\n",
    "\n",
    "* Não permita que o programa quebre com erros de indices inexistentes na lista.\n"
   ]
  },
  {
   "cell_type": "code",
   "execution_count": null,
   "metadata": {},
   "outputs": [],
   "source": [
    "produtos = []\n",
    "\n",
    "def menu():\n",
    "    print(\"-\" * 5 + ' Menu de Produtos ' + \"-\" * 5)\n",
    "    print(\"-\" * 5 + ' Digite 1 para adicionar ' + \"-\" * 5)\n",
    "    print(\"-\" * 5 + ' Digite 2 para remover ' + \"-\" * 5)\n",
    "    print(\"-\" * 5 + ' Digite 3 para listar ' + \"-\" * 5)\n",
    "    print(\"-\" * 5 + ' Digite 4 para sair ' + \"-\" * 5)\n",
    "\n",
    "while True:  # mais legível que while 1 != 0\n",
    "    menu()\n",
    "    opcao = int(input('Escolha uma opção: '))\n",
    "    if opcao == 1:\n",
    "        produto = input('Insira um produto: ')\n",
    "        produtos.append(produto)\n",
    "    elif opcao == 2:\n",
    "        produtos_del = input('Insira o produto a ser removido: ')\n",
    "        \n",
    "        try:\n",
    "            indice = int(produtos_del)\n",
    "            del produtos][indice]\n",
    "        except:\n",
    "            print('Não foi possível remover o poduto. Certifique-se de que o produto existe.')\n",
    "    elif opcao == 3:\n",
    "        if len(produtos) == 0:\n",
    "            print('Nenhum produto cadastrado.')\n",
    "        for i, produto in enumerate(produtos):\n",
    "            print(f'{i} - {produto}')\n",
    "        print('Lista de produtos:', produtos)\n",
    "    elif opcao == 4:  # condição de saída\n",
    "        break\n",
    "\n",
    "print('Programa encerrado.')\n"
   ]
  }
 ],
 "metadata": {
  "kernelspec": {
   "display_name": "Curso_python",
   "language": "python",
   "name": "python3"
  },
  "language_info": {
   "codemirror_mode": {
    "name": "ipython",
    "version": 3
   },
   "file_extension": ".py",
   "mimetype": "text/x-python",
   "name": "python",
   "nbconvert_exporter": "python",
   "pygments_lexer": "ipython3",
   "version": "3.12.7"
  }
 },
 "nbformat": 4,
 "nbformat_minor": 2
}
